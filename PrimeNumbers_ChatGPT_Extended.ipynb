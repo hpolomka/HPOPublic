{
 "cells": [
  {
   "cell_type": "code",
   "execution_count": 1,
   "metadata": {},
   "outputs": [
    {
     "name": "stdout",
     "output_type": "stream",
     "text": [
      "2 ist eine Primzahl\n",
      "3 ist eine Primzahl\n",
      "4 ist keine Primzahl\n",
      "Eingabe ungültig! Gib eine positive ganze Zahl ein.\n",
      "[2, 3]\n"
     ]
    }
   ],
   "source": [
    "# Dieses Programm ist eine erweiterte Version des Programms \"PrimeNumbers_ChatGPT.ipynb\".\n",
    "# Es fängt falsche Benutzereingaben ab und speichert die gefundenen\n",
    "# Primzahlen sortiert und ohne doppelte Werte in einer Liste ab, um sie\n",
    "# ggf. weiterzuverwenden.\n",
    "\n",
    "\n",
    "# Liste der gefundenen Primzahlen.\n",
    "listPrimeNumber = []\n",
    "\n",
    "# Algorithmus zur Berechnung der Primzahlen.\n",
    "def is_prime(number):    # Funktion!\n",
    "    if number <= 1: \n",
    "        return False\n",
    "    for i in range(2, number):    # Iteration (Wiederholung) von 2 bis (n - 1).\n",
    "        if number % i == 0:    # Modulo!\n",
    "            return False\n",
    "    return True\n",
    "\n",
    "# Das Programm läuft in einer Schleife, bis der Benutzer (User) es beendet.\n",
    "while True:    # Endlosschleife!\n",
    "    number = input(\"Gib eine Zahl ein: \")    # Usereingabe.\n",
    "    if number == \"done\":    # Gibt der User \"done\" ein, wird das Programm beendet.\n",
    "        break\n",
    "    try:\n",
    "        intNumber = int(number)    # Hier werden falsche Eingabewerte abgefangen!\n",
    "    except:\n",
    "        print (\"Eingabe ungültig! Gib eine positive ganze Zahl ein.\")\n",
    "        continue    # Ist der Wert ungültig, kommt ein Hinweis, und das Programm wartet auf die nächste Eingabe.\n",
    "\n",
    "    if is_prime(intNumber):    # Aufruf der Funktion mit dem zuvor eingegebenen Wert.\n",
    "        print(str(intNumber) + \" ist eine Primzahl\")\n",
    "        if intNumber in listPrimeNumber:    # Prüfung, ob der Wert bereits in der Liste vorhanden ist.\n",
    "            print(\"Der Wert ist bereits vorhanden!\")\n",
    "        else:\n",
    "            listPrimeNumber.append(intNumber)    # Der Wert ist eine Primzahl und wird der Liste hinzugefügt.\n",
    "            listPrimeNumber.sort()    # Die Liste wird sortiert.\n",
    "    else:\n",
    "        print(str(intNumber) + \" ist keine Primzahl\")\n",
    "\n",
    "print(listPrimeNumber)"
   ]
  }
 ],
 "metadata": {
  "kernelspec": {
   "display_name": "Python 3",
   "language": "python",
   "name": "python3"
  },
  "language_info": {
   "codemirror_mode": {
    "name": "ipython",
    "version": 3
   },
   "file_extension": ".py",
   "mimetype": "text/x-python",
   "name": "python",
   "nbconvert_exporter": "python",
   "pygments_lexer": "ipython3",
   "version": "3.9.13"
  },
  "orig_nbformat": 4,
  "vscode": {
   "interpreter": {
    "hash": "602aae7b45c338b8249d8386a822a467e4a6753322aac2bd21a33c45c0f1dacb"
   }
  }
 },
 "nbformat": 4,
 "nbformat_minor": 2
}
