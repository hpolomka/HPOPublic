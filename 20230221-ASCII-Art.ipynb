{
 "cells": [
  {
   "cell_type": "code",
   "execution_count": 17,
   "metadata": {},
   "outputs": [
    {
     "name": "stdout",
     "output_type": "stream",
     "text": [
      "                   *\n",
      "                  **\n",
      "                 ***\n",
      "                ****\n",
      "               *****\n",
      "              ******\n",
      "             *******\n",
      "            ********\n",
      "           *********\n",
      "          **********\n",
      "         ***********\n",
      "        ************\n",
      "       *************\n",
      "      **************\n",
      "     ***************\n",
      "    ****************\n",
      "   *****************\n",
      "  ******************\n",
      " *******************\n",
      "********************\n"
     ]
    }
   ],
   "source": [
    "# ASCII-Art :-)!\n",
    "# Zeichnen einer 'halben' Pyramide, deren senkrechte \n",
    "# Schnittkante am Ende der Zeile ist.\n",
    "\n",
    "# Definition der Funktion, die die Pyramide zeichnet.\n",
    "def pyramide():\n",
    "\n",
    "    # Höhe der Pyramide.\n",
    "    hoehePyramide = int(input(\"Bitte gib eine Zahl ein:\"))\n",
    "\n",
    "    # Schleife von '0' bis 'hoehePyramide - 1'!\n",
    "    for number in range(0, hoehePyramide):\n",
    "\n",
    "        # Abhängig von der Zeilen- und Spaltennummer werden \n",
    "        # erst '\" \" (Leerzeichen) und dann ein '*' gedruckt.\n",
    "        print(\" \" * ((hoehePyramide - 1) - number) + \"*\" * (number + 1)) \n",
    "\n",
    "# Die definierte Funktion wird aufgerufen.\n",
    "pyramide()"
   ]
  }
 ],
 "metadata": {
  "kernelspec": {
   "display_name": "Python 3",
   "language": "python",
   "name": "python3"
  },
  "language_info": {
   "codemirror_mode": {
    "name": "ipython",
    "version": 3
   },
   "file_extension": ".py",
   "mimetype": "text/x-python",
   "name": "python",
   "nbconvert_exporter": "python",
   "pygments_lexer": "ipython3",
   "version": "3.9.13"
  },
  "orig_nbformat": 4,
  "vscode": {
   "interpreter": {
    "hash": "602aae7b45c338b8249d8386a822a467e4a6753322aac2bd21a33c45c0f1dacb"
   }
  }
 },
 "nbformat": 4,
 "nbformat_minor": 2
}
