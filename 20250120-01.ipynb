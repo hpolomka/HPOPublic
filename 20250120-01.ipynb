fruits = ["Apfel", "Banane", "Kirsche"]

# Startwert des Index auf 1 setzen
for index, fruit in enumerate(fruits, start=1):
    print(f"Index: {index}, Frucht: {fruit}")