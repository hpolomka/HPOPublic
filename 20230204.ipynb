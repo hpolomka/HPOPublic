{
 "cells": [
  {
   "cell_type": "code",
   "execution_count": 5,
   "metadata": {},
   "outputs": [
    {
     "name": "stdout",
     "output_type": "stream",
     "text": [
      "7 ist eine Primzahl\n"
     ]
    }
   ],
   "source": [
    "# Off-Topic!\n",
    "\n",
    "# Ein kleines Python-Programm zur Primzahlberechnung inkl. Erklärungen,\n",
    "# das ChatGPT erzeugt hat.\n",
    "\n",
    "\"\"\"\n",
    "Erklärung des Programms durch ChatGPT:\n",
    "\n",
    "Die Funktion is_prime prüft, ob eine gegebene Zahl eine Primzahl ist,\n",
    "indem sie jeden Teiler der Zahl von 2 bis n-1 überprüft. Wenn die Zahl\n",
    "durch einen dieser Teiler ohne Rest teilbar ist, wird False zurückgegeben,\n",
    "da die Zahl keine Primzahl ist.\n",
    "\n",
    "Die Eingabe einer Zahl erfolgt durch den Benutzer mit input und wird in\n",
    "eine ganze Zahl umgewandelt.\n",
    "\n",
    "Die Funktion is_prime wird auf die eingegebene Zahl angewendet. Wenn die\n",
    "Funktion True zurückgibt, wird die Meldung \"ist eine Primzahl\" ausgegeben.\n",
    "Ansonsten wird die Meldung \"ist keine Primzahl\" ausgegeben.\n",
    "\"\"\"\n",
    "\n",
    "def is_prime(n):\n",
    "    if n <= 1: \n",
    "        return False\n",
    "    for i in range(2, n):\n",
    "        if n % i == 0:\n",
    "            return False\n",
    "    return True\n",
    "\n",
    "number = int(input(\"Gib eine Zahl ein: \"))\n",
    "if is_prime(number):\n",
    "    print(str(number) + \" ist eine Primzahl\")\n",
    "else:\n",
    "    print(str(number) + \" ist keine Primzahl\")"
   ]
  }
 ],
 "metadata": {
  "kernelspec": {
   "display_name": "Python 3",
   "language": "python",
   "name": "python3"
  },
  "language_info": {
   "codemirror_mode": {
    "name": "ipython",
    "version": 3
   },
   "file_extension": ".py",
   "mimetype": "text/x-python",
   "name": "python",
   "nbconvert_exporter": "python",
   "pygments_lexer": "ipython3",
   "version": "3.9.13"
  },
  "orig_nbformat": 4,
  "vscode": {
   "interpreter": {
    "hash": "602aae7b45c338b8249d8386a822a467e4a6753322aac2bd21a33c45c0f1dacb"
   }
  }
 },
 "nbformat": 4,
 "nbformat_minor": 2
}
