{
 "cells": [
  {
   "cell_type": "code",
   "execution_count": 3,
   "metadata": {},
   "outputs": [
    {
     "ename": "ValueError",
     "evalue": "invalid literal for int() with base 10: 'g'",
     "output_type": "error",
     "traceback": [
      "\u001b[1;31m---------------------------------------------------------------------------\u001b[0m",
      "\u001b[1;31mValueError\u001b[0m                                Traceback (most recent call last)",
      "\u001b[1;32md:\\Programmierung\\GitHub\\training\\20230204.ipynb Zelle 1\u001b[0m in \u001b[0;36m<cell line: 30>\u001b[1;34m()\u001b[0m\n\u001b[0;32m     <a href='vscode-notebook-cell:/d%3A/Programmierung/GitHub/training/20230204.ipynb#W0sZmlsZQ%3D%3D?line=26'>27</a>\u001b[0m             \u001b[39mreturn\u001b[39;00m \u001b[39mFalse\u001b[39;00m\n\u001b[0;32m     <a href='vscode-notebook-cell:/d%3A/Programmierung/GitHub/training/20230204.ipynb#W0sZmlsZQ%3D%3D?line=27'>28</a>\u001b[0m     \u001b[39mreturn\u001b[39;00m \u001b[39mTrue\u001b[39;00m\n\u001b[1;32m---> <a href='vscode-notebook-cell:/d%3A/Programmierung/GitHub/training/20230204.ipynb#W0sZmlsZQ%3D%3D?line=29'>30</a>\u001b[0m number \u001b[39m=\u001b[39m \u001b[39mint\u001b[39;49m(\u001b[39minput\u001b[39;49m(\u001b[39m\"\u001b[39;49m\u001b[39mGib eine Zahl ein: \u001b[39;49m\u001b[39m\"\u001b[39;49m))\n\u001b[0;32m     <a href='vscode-notebook-cell:/d%3A/Programmierung/GitHub/training/20230204.ipynb#W0sZmlsZQ%3D%3D?line=30'>31</a>\u001b[0m \u001b[39mif\u001b[39;00m is_prime(number):\n\u001b[0;32m     <a href='vscode-notebook-cell:/d%3A/Programmierung/GitHub/training/20230204.ipynb#W0sZmlsZQ%3D%3D?line=31'>32</a>\u001b[0m     \u001b[39mprint\u001b[39m(\u001b[39mstr\u001b[39m(number) \u001b[39m+\u001b[39m \u001b[39m\"\u001b[39m\u001b[39m ist eine Primzahl\u001b[39m\u001b[39m\"\u001b[39m)\n",
      "\u001b[1;31mValueError\u001b[0m: invalid literal for int() with base 10: 'g'"
     ]
    }
   ],
   "source": [
    "# Off-Topic!\n",
    "\n",
    "# Ein kleines Python-Programm zur Primzahlberechnung inkl. Erklärungen,\n",
    "# das ChatGPT erzeugt hat.\n",
    "\n",
    "\"\"\"\n",
    "Erklärung des Programms durch ChatGPT:\n",
    "\n",
    "Die Funktion is_prime prüft, ob eine gegebene Zahl eine Primzahl ist,\n",
    "indem sie jeden Teiler der Zahl von 2 bis n-1 überprüft. Wenn die Zahl\n",
    "durch einen dieser Teiler ohne Rest teilbar ist, wird False zurückgegeben,\n",
    "da die Zahl keine Primzahl ist.\n",
    "\n",
    "Die Eingabe einer Zahl erfolgt durch den Benutzer mit input und wird in\n",
    "eine ganze Zahl umgewandelt.\n",
    "\n",
    "Die Funktion is_prime wird auf die eingegebene Zahl angewendet. Wenn die\n",
    "Funktion True zurückgibt, wird die Meldung \"ist eine Primzahl\" ausgegeben.\n",
    "Ansonsten wird die Meldung \"ist keine Primzahl\" ausgegeben.\n",
    "\"\"\"\n",
    "\n",
    "def is_prime(n):\n",
    "    if n <= 1: \n",
    "        return False\n",
    "    for i in range(2, n):\n",
    "        if n % i == 0:\n",
    "            return False\n",
    "    return True\n",
    "\n",
    "number = int(input(\"Gib eine Zahl ein: \"))\n",
    "if is_prime(number):\n",
    "    print(str(number) + \" ist eine Primzahl\")\n",
    "else:\n",
    "    print(str(number) + \" ist keine Primzahl\")"
   ]
  },
  {
   "cell_type": "code",
   "execution_count": 5,
   "metadata": {},
   "outputs": [
    {
     "name": "stdout",
     "output_type": "stream",
     "text": [
      "5 ist eine Primzahl\n",
      "5 ist eine Primzahl\n",
      "[5, 5]\n"
     ]
    }
   ],
   "source": [
    "\n",
    "\n",
    "listPrimeNumber = []\n",
    "\n",
    "def is_prime(number):\n",
    "    if number <= 1: \n",
    "        return False\n",
    "    for i in range(2, number):\n",
    "        if number % i == 0:\n",
    "            return False\n",
    "    return True\n",
    "\n",
    "while True:\n",
    "\n",
    "    number = input(\"Gib eine Zahl ein: \")\n",
    "    if number == \"done\":\n",
    "        break\n",
    "    try:\n",
    "        intNumber = int(number)\n",
    "    except:\n",
    "        print (\"Invalid input!\")\n",
    "        continue\n",
    "\n",
    "    if is_prime(intNumber):\n",
    "        print(str(intNumber) + \" ist eine Primzahl\")\n",
    "        listPrimeNumber.append(intNumber)\n",
    "        listPrimeNumber.sort()\n",
    "    else:\n",
    "        print(str(intNumber) + \" ist keine Primzahl\")\n",
    "\n",
    "print(listPrimeNumber)"
   ]
  }
 ],
 "metadata": {
  "kernelspec": {
   "display_name": "Python 3",
   "language": "python",
   "name": "python3"
  },
  "language_info": {
   "codemirror_mode": {
    "name": "ipython",
    "version": 3
   },
   "file_extension": ".py",
   "mimetype": "text/x-python",
   "name": "python",
   "nbconvert_exporter": "python",
   "pygments_lexer": "ipython3",
   "version": "3.9.13"
  },
  "orig_nbformat": 4,
  "vscode": {
   "interpreter": {
    "hash": "602aae7b45c338b8249d8386a822a467e4a6753322aac2bd21a33c45c0f1dacb"
   }
  }
 },
 "nbformat": 4,
 "nbformat_minor": 2
}
